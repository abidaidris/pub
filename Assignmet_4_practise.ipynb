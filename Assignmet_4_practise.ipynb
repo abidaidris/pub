{
  "nbformat": 4,
  "nbformat_minor": 0,
  "metadata": {
    "colab": {
      "provenance": [],
      "authorship_tag": "ABX9TyNd/sRRHLltZmvuU59oxpmH",
      "include_colab_link": true
    },
    "kernelspec": {
      "name": "python3",
      "display_name": "Python 3"
    },
    "language_info": {
      "name": "python"
    }
  },
  "cells": [
    {
      "cell_type": "markdown",
      "metadata": {
        "id": "view-in-github",
        "colab_type": "text"
      },
      "source": [
        "<a href=\"https://colab.research.google.com/github/abidaidris/pub/blob/main/Assignmet_4_practise.ipynb\" target=\"_parent\"><img src=\"https://colab.research.google.com/assets/colab-badge.svg\" alt=\"Open In Colab\"/></a>"
      ]
    },
    {
      "cell_type": "code",
      "execution_count": null,
      "metadata": {
        "colab": {
          "base_uri": "https://localhost:8080/"
        },
        "id": "N_GGSeOWF9Vq",
        "outputId": "a5497fd2-eea2-4346-a693-749b08c6423f"
      },
      "outputs": [
        {
          "output_type": "stream",
          "name": "stdout",
          "text": [
            "['Lahore', 'Rawalpindi', 'Quetta', 'Peshawer', 'Kahuta', 'Peshawer']\n"
          ]
        }
      ],
      "source": [
        "#  Several Practice methos Of LISTS\n",
        "\n",
        "cities = ['Lahore','Peshawer', 'Rawalpindi', 'Quetta','Peshawer','Kahuta','Peshawer']\n",
        "print (cities)"
      ]
    },
    {
      "cell_type": "code",
      "source": [
        "cities.remove('Peshawer')\n",
        "print(cities)"
      ],
      "metadata": {
        "colab": {
          "base_uri": "https://localhost:8080/"
        },
        "id": "pjYREOdZGitH",
        "outputId": "8121f478-43ef-4191-8d15-39ac53414e2f"
      },
      "execution_count": null,
      "outputs": [
        {
          "output_type": "stream",
          "name": "stdout",
          "text": [
            "['Lahore', 'Rawalpindi', 'Quetta', 'Kahuta']\n"
          ]
        }
      ]
    },
    {
      "cell_type": "code",
      "source": [
        "term= 'Peshawer'\n",
        "while term in cities:\n",
        "  cities.remove(term)\n",
        "print(cities)\n"
      ],
      "metadata": {
        "colab": {
          "base_uri": "https://localhost:8080/"
        },
        "id": "6KmMWDEJHB_k",
        "outputId": "9d8f7834-4355-46b2-f953-ad115dda0fe2"
      },
      "execution_count": null,
      "outputs": [
        {
          "output_type": "stream",
          "name": "stdout",
          "text": [
            "['Lahore', 'Rawalpindi', 'Quetta', 'Kahuta']\n"
          ]
        }
      ]
    },
    {
      "cell_type": "code",
      "source": [
        "food_items = ['pizza','cake','pie','roast','zinger','pie','pie','nabblets']\n",
        "print(food_items.count(\"pie\"))"
      ],
      "metadata": {
        "colab": {
          "base_uri": "https://localhost:8080/"
        },
        "id": "rIhjOA0GIAQq",
        "outputId": "48d3df3f-c1bc-41f4-ece9-d046db3dfb07"
      },
      "execution_count": null,
      "outputs": [
        {
          "output_type": "stream",
          "name": "stdout",
          "text": [
            "3\n"
          ]
        }
      ]
    },
    {
      "cell_type": "code",
      "source": [
        "# Delete multiple occurences of items in the list\n",
        "while food_items.count(\"pie\")>0:\n",
        "  print(\"occurence of items\", food_items.count(\"pie\"))\n",
        "  food_items.remove(\"pie\")\n",
        "  print(food_items, \"     Left\", food_items.count(\"pie\"))"
      ],
      "metadata": {
        "colab": {
          "base_uri": "https://localhost:8080/"
        },
        "id": "Ly959SqqInNM",
        "outputId": "a588d627-6931-4112-d044-a45b643fbe31"
      },
      "execution_count": null,
      "outputs": [
        {
          "output_type": "stream",
          "name": "stdout",
          "text": [
            "occurence of items 3\n",
            "['pizza', 'cake', 'roast', 'zinger', 'pie', 'pie', 'nabblets']      Left 2\n",
            "occurence of items 2\n",
            "['pizza', 'cake', 'roast', 'zinger', 'pie', 'nabblets']      Left 1\n",
            "occurence of items 1\n",
            "['pizza', 'cake', 'roast', 'zinger', 'nabblets']      Left 0\n"
          ]
        }
      ]
    },
    {
      "cell_type": "code",
      "source": [
        "# empty the List\n",
        "food_items.clear()\n",
        "if not food_items:\n",
        "  print (\"List is emptized\")\n",
        "else:\n",
        "  print(food_items)"
      ],
      "metadata": {
        "colab": {
          "base_uri": "https://localhost:8080/"
        },
        "id": "Uo7JV_9cK_OX",
        "outputId": "5302b929-1fa3-4131-f2f8-ad005b5c0936"
      },
      "execution_count": null,
      "outputs": [
        {
          "output_type": "stream",
          "name": "stdout",
          "text": [
            "List is emptized\n"
          ]
        }
      ]
    },
    {
      "cell_type": "code",
      "source": [
        "if food_items:\n",
        "   print (food_items)\n",
        "   print(\"List Exists\")\n",
        "else:\n",
        "  print(\"List does not Exist\")\n",
        "  # food_items = ['b','c','p','r','z','n']"
      ],
      "metadata": {
        "colab": {
          "base_uri": "https://localhost:8080/"
        },
        "id": "LcoynFMYMpUp",
        "outputId": "4e07b29d-9135-40e4-c64f-1424a34dbe54"
      },
      "execution_count": null,
      "outputs": [
        {
          "output_type": "stream",
          "name": "stdout",
          "text": [
            "['pizza', 'cake', 'roast', 'zinger', 'nabblets']\n",
            "List Exists\n"
          ]
        }
      ]
    },
    {
      "cell_type": "code",
      "source": [
        "# Extending a list/ Combining th lists\n",
        "drinks = ['water','juice','tea','coffee','soup']\n",
        "food_items.extend(drinks)\n",
        "print(\"Extended List\", food_items)\n",
        "# Reversing a list\n",
        "food_items.reverse()\n",
        "print(\"Reversed List\",food_items)\n"
      ],
      "metadata": {
        "colab": {
          "base_uri": "https://localhost:8080/"
        },
        "id": "rs8CXrQpRK_C",
        "outputId": "7ecdcfba-41ed-4375-e83d-6038f22f0325"
      },
      "execution_count": null,
      "outputs": [
        {
          "output_type": "stream",
          "name": "stdout",
          "text": [
            "Extended List ['pizza', 'cake', 'roast', 'zinger', 'nabblets', 'water', 'juice', 'tea', 'coffee', 'soup']\n",
            "Reversed List ['soup', 'coffee', 'tea', 'juice', 'water', 'nabblets', 'zinger', 'roast', 'cake', 'pizza']\n"
          ]
        }
      ]
    }
  ]
}